{
 "cells": [
  {
   "cell_type": "markdown",
   "metadata": {},
   "source": [
    "# Dev Notebook\n",
    "Run the economics script\n",
    "\n",
    "1. Import packages and pip install the custom libraries\n",
    "2. Load some data & parameters\n",
    "3. Name the experiment\n",
    "4. Register the model\n",
    "5. Run the model\n",
    "6. Log the artifacts\n",
    "7. Write data out\n",
    "\n",
    "### Import libraries"
   ]
  },
  {
   "cell_type": "code",
   "execution_count": 13,
   "metadata": {},
   "outputs": [],
   "source": [
    "import logging\n",
    "from typing import Dict, Optional, Any, Union, List\n",
    "import sys\n",
    "import mlflow\n",
    "import subprocess\n",
    "import tomllib\n",
    "\n",
    "# %pip install BoEModels # Commented out given packages are development\n",
    "# %pip install DummyBKKModel # Commented out given packages are development\n",
    "\n",
    "import BoEModels\n",
    "import DummyBKKModel"
   ]
  },
  {
   "cell_type": "markdown",
   "metadata": {},
   "source": [
    "### Load some parameters and data"
   ]
  },
  {
   "cell_type": "code",
   "execution_count": 8,
   "metadata": {},
   "outputs": [
    {
     "data": {
      "text/plain": [
       "{'experiment_name': 'LUKAS_TEST_1',\n",
       " 'model_name': 'TEST1',\n",
       " 'model_author': 'Lukas Alemu',\n",
       " 'model_owner': 'Lukas Alemu',\n",
       " 'model_description': 'Lukas testing model',\n",
       " 'tags': {'Division': 'lorem', 'Forecast': 'ipsum'},\n",
       " 'model_parameters': {'param1': 1, 'param2': 2, 'param3': True}}"
      ]
     },
     "execution_count": 8,
     "metadata": {},
     "output_type": "execute_result"
    }
   ],
   "source": [
    "# Load from the model config\n",
    "with open(\"demo_config.toml\", \"rb\") as f:\n",
    "    DEMO_CONFIG = tomllib.load(f)\n",
    "\n",
    "DEMO_CONFIG"
   ]
  },
  {
   "cell_type": "code",
   "execution_count": 16,
   "metadata": {},
   "outputs": [],
   "source": [
    "# This is obviously trivial. In practice I'd load from the Databricks storage layer\n",
    "dummy_input = [1, 2, 3, 4, 5]"
   ]
  },
  {
   "cell_type": "markdown",
   "metadata": {},
   "source": [
    "### Configure the model"
   ]
  },
  {
   "cell_type": "code",
   "execution_count": 17,
   "metadata": {},
   "outputs": [
    {
     "ename": "AttributeError",
     "evalue": "module 'DummyBKKModel' has no attribute 'DynareBKK'",
     "output_type": "error",
     "traceback": [
      "\u001b[0;31m---------------------------------------------------------------------------\u001b[0m",
      "\u001b[0;31mAttributeError\u001b[0m                            Traceback (most recent call last)",
      "Cell \u001b[0;32mIn[17], line 1\u001b[0m\n\u001b[0;32m----> 1\u001b[0m model \u001b[38;5;241m=\u001b[39m \u001b[43mDummyBKKModel\u001b[49m\u001b[38;5;241;43m.\u001b[39;49m\u001b[43mDynareBKK\u001b[49m(DEMO_CONFIG)\n",
      "\u001b[0;31mAttributeError\u001b[0m: module 'DummyBKKModel' has no attribute 'DynareBKK'"
     ]
    }
   ],
   "source": [
    "model = DummyBKKModel.DynareBKK(DEMO_CONFIG)"
   ]
  }
 ],
 "metadata": {
  "kernelspec": {
   "display_name": "Model Framework",
   "language": "python",
   "name": "model_framework"
  },
  "language_info": {
   "codemirror_mode": {
    "name": "ipython",
    "version": 3
   },
   "file_extension": ".py",
   "mimetype": "text/x-python",
   "name": "python",
   "nbconvert_exporter": "python",
   "pygments_lexer": "ipython3",
   "version": "3.12.5"
  }
 },
 "nbformat": 4,
 "nbformat_minor": 4
}
