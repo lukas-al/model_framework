{
 "cells": [
  {
   "cell_type": "code",
   "execution_count": 10,
   "metadata": {},
   "outputs": [],
   "source": [
    "import logging\n",
    "from typing import Dict, Optional, Any, Union, List\n",
    "import sys\n",
    "import mlflow\n",
    "\n",
    "# Configure global logger\n",
    "logger = logging.getLogger(__name__)\n",
    "logger.setLevel(logging.INFO)\n",
    "\n",
    "handler = logging.StreamHandler(sys.stdout)\n",
    "handler.setLevel(logging.DEBUG)\n",
    "\n",
    "formatter = logging.Formatter(\"%(asctime)s - %(name)s - %(levelname)s - %(message)s\")\n",
    "handler.setFormatter(formatter)\n",
    "\n",
    "logger.addHandler(handler)\n",
    "\n",
    "DEMO_CONFIG = {\n",
    "    'experiment_name': 'LUKAS_TEST_1',\n",
    "    'model_name': 'TEST1',\n",
    "    'model_author': 'Lukas Alemu',\n",
    "    'model_owner': 'Lukas Alemu',\n",
    "    'model_description': \"\"\"Lukas testing model\"\"\",\n",
    "    'tags': {\n",
    "        'Division': 'lorem',\n",
    "        'Forecast': 'ipsum'\n",
    "    },\n",
    "    'model_parameters': {\n",
    "        'param1': 1,\n",
    "        'param2': 2,\n",
    "        'param3': True,\n",
    "    },\n",
    "    'code_paths': None\n",
    "}"
   ]
  },
  {
   "cell_type": "code",
   "execution_count": 57,
   "metadata": {},
   "outputs": [],
   "source": [
    "class BasicModel(): # mlflow.pyfunc.PythonModel\n",
    "    \"\"\"\n",
    "    Basic Model Wrapper class\n",
    "    \"\"\"\n",
    "    def __init__(self, model_config: Dict[str, str]):\n",
    "        logger.info(msg=\"BasicModelWrapper instantiated\")\n",
    "\n",
    "        # For experimentation - set the backend uri, tracking uri, etc.\n",
    "        backend_uri = r\"N:\\CECD\\10. Personal\\Lukas Alemu\\Future FAME\\01. Future Forecast\\ml_framework\\mlflow\"\n",
    "        # Tracking URI would be a DB workspace\n",
    "        mlflow.set_tracking_uri(\n",
    "            # uri=\"http://127.0.0.1:8888\"\n",
    "            uri=\"file:/\" + r\"N:\\CECD\\10. Personal\\Lukas Alemu\\Future FAME\\01. Future Forecast\\ml_framework\\mlflow\"\n",
    "        )\n",
    "\n",
    "        # Bind the model config to the class instance\n",
    "        for k, v in model_config.items():\n",
    "            setattr(self, k, v)\n",
    "\n",
    "    def register_model(self):\n",
    "        \"\"\"Connect to the MLFlow instance, set experiment, set run, check if exists, log if not, update if does, etc.\"\"\"\n",
    "        logger.info(msg=\"Registering model\")\n",
    "        mlflow.register_model(\n",
    "            model_uri=self.model_name, \n",
    "            name=self.model_name,\n",
    "            tags=self.tags,\n",
    "        )\n",
    "\n",
    "    def set_experiment(self, experiment_tags: Optional[Dict[str, Any]] = None):\n",
    "        \"\"\"Set the experiment, using config values\"\"\"\n",
    "        self.experiment = mlflow.set_experiment(\n",
    "            experiment_name=self.experiment_name,\n",
    "        )\n",
    "        logger.info(msg=f\"Succesffully set experiment: {self.experiment.experiment_id}\")\n",
    "        \n",
    "    def log_parameters(self):\n",
    "        \"\"\"Log parameters to the MLFlow instance\"\"\"\n",
    "        raise NotImplementedError\n",
    "    \n",
    "    def log_judgement(self):\n",
    "        \"\"\"Log judgements as artifacts to the MLFlow instance\"\"\"\n",
    "        raise NotImplementedError\n",
    "    \n",
    "    def set_tags(self):\n",
    "        \"\"\"Update the model tags\"\"\"\n",
    "        raise NotImplementedError\n",
    "    \n",
    "    def set_metadata(self):\n",
    "        \"\"\"Set additional metadata as required\"\"\"\n",
    "        raise NotImplementedError\n",
    "\n",
    "    def _fit(self):\n",
    "        \"\"\"Replace with model's specific fit method\"\"\"\n",
    "        raise NotImplementedError\n",
    "\n",
    "    def _predict(self):\n",
    "        \"\"\"Replace with model's specific prediction method\"\"\"\n",
    "        raise NotImplementedError\n",
    "\n",
    "    def predict(self, context, model_input):\n",
    "        \"\"\"MLFlow's default entry point for models - adapt as necessary\"\"\"\n",
    "        # Must adhere to this API https://mlflow.org/docs/latest/python_api/mlflow.pyfunc.html?highlight=mlflow%20pyfunc#pyfunc-inference-api\n",
    "        # Can add extra arguments to the input if the model has multiple prediction modes\n",
    "        raise NotImplementedError"
   ]
  },
  {
   "cell_type": "code",
   "execution_count": 58,
   "metadata": {},
   "outputs": [
    {
     "name": "stdout",
     "output_type": "stream",
     "text": [
      "2024-09-20 18:23:16,502 - __main__ - INFO - BasicModelWrapper instantiated\n",
      "2024-09-20 18:23:16,502 - __main__ - INFO - BasicModelWrapper instantiated\n",
      "2024-09-20 18:23:16,502 - __main__ - INFO - BasicModelWrapper instantiated\n",
      "2024-09-20 18:23:16,502 - __main__ - INFO - BasicModelWrapper instantiated\n"
     ]
    }
   ],
   "source": [
    "class DummyModel(BasicModel):\n",
    "    def _fit(self, data_input):\n",
    "        # raise NotImplementedError\n",
    "        return\n",
    "    \n",
    "    def _predict(self, data_input)-> List[int]:\n",
    "        \"\"\"Dummy model\"\"\"\n",
    "        data_output = [1, 2, 3]\n",
    "        return data_output\n",
    "    \n",
    "\n",
    "test_m = DummyModel(DEMO_CONFIG)"
   ]
  },
  {
   "cell_type": "code",
   "execution_count": 59,
   "metadata": {},
   "outputs": [
    {
     "name": "stdout",
     "output_type": "stream",
     "text": [
      "2024-09-20 18:23:21,371 - __main__ - INFO - Registering model\n",
      "2024-09-20 18:23:21,371 - __main__ - INFO - Registering model\n",
      "2024-09-20 18:23:21,371 - __main__ - INFO - Registering model\n",
      "2024-09-20 18:23:21,371 - __main__ - INFO - Registering model\n"
     ]
    },
    {
     "name": "stderr",
     "output_type": "stream",
     "text": [
      "Registered model 'TEST1' already exists. Creating a new version of this model...\n",
      "Created version '9' of model 'TEST1'.\n"
     ]
    }
   ],
   "source": [
    "test_m.register_model()"
   ]
  },
  {
   "cell_type": "code",
   "execution_count": 60,
   "metadata": {},
   "outputs": [
    {
     "name": "stdout",
     "output_type": "stream",
     "text": [
      "2024-09-20 18:23:26,912 - __main__ - INFO - Succesffully set experiment: 816358717221343040\n",
      "2024-09-20 18:23:26,912 - __main__ - INFO - Succesffully set experiment: 816358717221343040\n",
      "2024-09-20 18:23:26,912 - __main__ - INFO - Succesffully set experiment: 816358717221343040\n",
      "2024-09-20 18:23:26,912 - __main__ - INFO - Succesffully set experiment: 816358717221343040\n"
     ]
    }
   ],
   "source": [
    "test_m.set_experiment()"
   ]
  },
  {
   "cell_type": "code",
   "execution_count": null,
   "metadata": {},
   "outputs": [],
   "source": [
    "test_m.set_run()"
   ]
  }
 ],
 "metadata": {
  "kernelspec": {
   "display_name": "py39",
   "language": "python",
   "name": "python3"
  },
  "language_info": {
   "codemirror_mode": {
    "name": "ipython",
    "version": 3
   },
   "file_extension": ".py",
   "mimetype": "text/x-python",
   "name": "python",
   "nbconvert_exporter": "python",
   "pygments_lexer": "ipython3",
   "version": "3.12.5"
  }
 },
 "nbformat": 4,
 "nbformat_minor": 2
}
